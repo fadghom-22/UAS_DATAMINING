{
  "nbformat": 4,
  "nbformat_minor": 0,
  "metadata": {
    "colab": {
      "provenance": [],
      "include_colab_link": true
    },
    "kernelspec": {
      "name": "python3",
      "display_name": "Python 3"
    },
    "language_info": {
      "name": "python"
    }
  },
  "cells": [
    {
      "cell_type": "markdown",
      "metadata": {
        "id": "view-in-github",
        "colab_type": "text"
      },
      "source": [
        "<a href=\"https://colab.research.google.com/github/fadghom-22/UAS_DATAMINING/blob/main/Untitled4.ipynb\" target=\"_parent\"><img src=\"https://colab.research.google.com/assets/colab-badge.svg\" alt=\"Open In Colab\"/></a>"
      ]
    },
    {
      "cell_type": "markdown",
      "source": [
        "### Import Library Dan File **Dataset**"
      ],
      "metadata": {
        "id": "0fIsQvnv1xxW"
      }
    },
    {
      "cell_type": "code",
      "source": [
        "import pandas as pd\n",
        "import numpy as np\n",
        "import matplotlib.pyplot as plt\n",
        "import seaborn as sns\n",
        "from sklearn.model_selection import train_test_split\n",
        "from sklearn.linear_model import LinearRegression\n",
        "from sklearn.metrics import mean_squared_error, r2_score\n",
        "# !wget http://informatika20.my.id/data/monero.csv"
      ],
      "metadata": {
        "id": "bjjYNDqRMS_6"
      },
      "execution_count": 13,
      "outputs": []
    },
    {
      "cell_type": "markdown",
      "source": [
        "### PreProcessing Data"
      ],
      "metadata": {
        "id": "oT7oPUW01rC1"
      }
    },
    {
      "cell_type": "code",
      "source": [
        "def preprocess_and_save(csv_file_path, required_columns, output_csv_file):\n",
        "    df = pd.read_csv(csv_file_path)\n",
        "    print(df)\n",
        "    print(\"\\nInformasi Missing Values:\")\n",
        "    print(df.isnull().sum())\n",
        "    df = df[required_columns]\n",
        "    print(\"\\nKolom Yang Digunakan\")\n",
        "    print(df)\n",
        "\n",
        "    df.to_csv(output_csv_file, index=False)\n",
        "\n",
        "csv_file_path = 'bch.csv'\n",
        "required_columns = ['Price','Open','High','Low']\n",
        "output_csv_file = 'clean.csv'\n",
        "preprocess_and_save(csv_file_path, required_columns, output_csv_file)\n",
        "\n",
        "print(f\"\\n\\nData yang sudah dipreprocessing telah disimpan dalam file {output_csv_file}.\")"
      ],
      "metadata": {
        "colab": {
          "base_uri": "https://localhost:8080/"
        },
        "id": "T59vmbzny82e",
        "outputId": "06329e0a-0fc3-4e03-a6b3-4874bc7dc821"
      },
      "execution_count": 14,
      "outputs": [
        {
          "output_type": "stream",
          "name": "stdout",
          "text": [
            "            Date  Price   Open   High    Low     Vol. Change %\n",
            "0   Jul 24, 2023  247.5  249.6  253.4  245.2  130.72K   -0.84%\n",
            "1   Jul 23, 2023  249.6  239.4  255.3  238.3  124.09K    4.26%\n",
            "2   Jul 22, 2023  239.4  246.1  247.8  237.5   57.88K   -2.72%\n",
            "3   Jul 21, 2023  246.1  244.0  248.2  241.6   66.22K    0.94%\n",
            "4   Jul 20, 2023  243.8  244.0  255.0  240.6  124.37K   -0.08%\n",
            "5   Jul 19, 2023  244.0  243.7  251.4  241.3  120.41K    0.12%\n",
            "6   Jul 18, 2023  243.7  241.9  247.9  231.9  233.69K    0.74%\n",
            "7   Jul 17, 2023  241.9  249.9  254.4  236.1  207.01K   -3.20%\n",
            "8   Jul 16, 2023  249.9  253.4  261.3  248.1  198.99K   -1.38%\n",
            "9   Jul 15, 2023  253.4  264.1  264.1  247.1  172.90K   -4.05%\n",
            "10  Jul 14, 2023  264.1  274.2  277.7  256.0  325.98K   -3.68%\n",
            "11  Jul 13, 2023  274.2  282.2  291.3  268.9  424.67K   -2.83%\n",
            "12  Jul 12, 2023  282.2  273.8  293.1  272.7  285.44K    3.07%\n",
            "13  Jul 11, 2023  273.8  274.6  277.3  270.6  132.72K   -0.29%\n",
            "14  Jul 10, 2023  274.6  265.7  287.2  260.3  371.76K    3.35%\n",
            "15  Jul 09, 2023  265.7  272.0  278.5  262.8  173.23K   -2.39%\n",
            "16  Jul 08, 2023  272.2  278.5  282.9  262.2  219.89K   -2.26%\n",
            "17  Jul 07, 2023  278.5  275.3  288.9  272.6  399.54K    1.16%\n",
            "18  Jul 06, 2023  275.3  271.5  303.3  268.4  810.66K    1.40%\n",
            "19  Jul 05, 2023  271.5  272.2  278.2  249.6  495.53K   -0.26%\n",
            "20  Jul 04, 2023  272.2  292.7  293.0  271.5  278.41K   -7.00%\n",
            "21  Jul 03, 2023  292.7  299.0  302.3  280.0  387.42K   -2.11%\n",
            "22  Jul 02, 2023  299.0  291.3  307.1  268.9  804.15K    2.71%\n",
            "23  Jul 01, 2023  291.1  304.2  309.7  281.2  540.77K   -4.31%\n",
            "24  Jun 30, 2023  304.2  253.1  327.5  252.3    1.71M   20.19%\n",
            "25  Jun 29, 2023  253.1  225.1  255.2  224.2  711.13K   12.44%\n",
            "26  Jun 28, 2023  225.1  229.7  236.1  221.0  732.75K   -2.00%\n",
            "27  Jun 27, 2023  229.7  223.3  238.7  216.8  727.07K    2.87%\n",
            "28  Jun 26, 2023  223.3  194.7  229.3  188.1  926.25K   14.69%\n",
            "29  Jun 25, 2023  194.7  212.6  217.9  186.8  689.92K   -8.42%\n",
            "30  Jun 24, 2023  212.6  181.9  220.0  179.7    1.00M   16.88%\n",
            "\n",
            "Informasi Missing Values:\n",
            "Date        0\n",
            "Price       0\n",
            "Open        0\n",
            "High        0\n",
            "Low         0\n",
            "Vol.        0\n",
            "Change %    0\n",
            "dtype: int64\n",
            "\n",
            "Kolom Yang Digunakan\n",
            "    Price   Open   High    Low\n",
            "0   247.5  249.6  253.4  245.2\n",
            "1   249.6  239.4  255.3  238.3\n",
            "2   239.4  246.1  247.8  237.5\n",
            "3   246.1  244.0  248.2  241.6\n",
            "4   243.8  244.0  255.0  240.6\n",
            "5   244.0  243.7  251.4  241.3\n",
            "6   243.7  241.9  247.9  231.9\n",
            "7   241.9  249.9  254.4  236.1\n",
            "8   249.9  253.4  261.3  248.1\n",
            "9   253.4  264.1  264.1  247.1\n",
            "10  264.1  274.2  277.7  256.0\n",
            "11  274.2  282.2  291.3  268.9\n",
            "12  282.2  273.8  293.1  272.7\n",
            "13  273.8  274.6  277.3  270.6\n",
            "14  274.6  265.7  287.2  260.3\n",
            "15  265.7  272.0  278.5  262.8\n",
            "16  272.2  278.5  282.9  262.2\n",
            "17  278.5  275.3  288.9  272.6\n",
            "18  275.3  271.5  303.3  268.4\n",
            "19  271.5  272.2  278.2  249.6\n",
            "20  272.2  292.7  293.0  271.5\n",
            "21  292.7  299.0  302.3  280.0\n",
            "22  299.0  291.3  307.1  268.9\n",
            "23  291.1  304.2  309.7  281.2\n",
            "24  304.2  253.1  327.5  252.3\n",
            "25  253.1  225.1  255.2  224.2\n",
            "26  225.1  229.7  236.1  221.0\n",
            "27  229.7  223.3  238.7  216.8\n",
            "28  223.3  194.7  229.3  188.1\n",
            "29  194.7  212.6  217.9  186.8\n",
            "30  212.6  181.9  220.0  179.7\n",
            "\n",
            "\n",
            "Data yang sudah dipreprocessing telah disimpan dalam file clean.csv.\n"
          ]
        }
      ]
    },
    {
      "cell_type": "code",
      "source": [
        "import pandas as pd\n",
        "import joblib\n",
        "from sklearn.model_selection import train_test_split\n",
        "from sklearn.linear_model import LinearRegression\n",
        "from sklearn.metrics import mean_squared_error, r2_score\n",
        "\n",
        "# Fungsi untuk melatih model regresi linear dan menyimpan model sebagai h5 file\n",
        "def train_and_save_model(csv_file_path, target_column, feature_columns, model_file):\n",
        "    # Baca data dari file .csv\n",
        "    df = pd.read_csv(csv_file_path)\n",
        "\n",
        "    # Ubah koma menjadi titik dalam kolom-kolom yang berisi angka\n",
        "    for col in df.columns:\n",
        "        if df[col].dtype == 'object':\n",
        "            df[col] = df[col].str.replace(',', '.').astype(float)\n",
        "\n",
        "    # Hanya ambil kolom target dan fitur yang diperlukan\n",
        "    data = df[[target_column] + feature_columns]\n",
        "\n",
        "    # Pisahkan data menjadi data latih dan data uji\n",
        "    X = data[feature_columns]\n",
        "    y = data[target_column]\n",
        "    X_train, X_test, y_train, y_test = train_test_split(X, y, test_size=0.2, random_state=42)\n",
        "\n",
        "    # Latih model regresi linear\n",
        "    model = LinearRegression()\n",
        "    model.fit(X_train, y_train)\n",
        "\n",
        "    # Simpan model sebagai h5 file\n",
        "    joblib.dump(model, model_file)\n",
        "\n",
        "    # Lakukan prediksi pada data uji\n",
        "    y_pred = model.predict(X_test)\n",
        "\n",
        "    # Evaluasi model menggunakan metrik Mean Squared Error dan R-squared\n",
        "    mse = mean_squared_error(y_test, y_pred)\n",
        "    r_squared = r2_score(y_test, y_pred)\n",
        "\n",
        "    return model, y_test, y_pred, mse, r_squared\n",
        "\n",
        "\n",
        "csv_file_path = 'clean.csv'  # Ganti 'path_to_your_csv_file.csv' dengan path ke file .csv Anda\n",
        "target_column = 'Price'  # Ganti dengan kolom target yang ingin diprediksi (misalnya 'Price')\n",
        "feature_columns = ['Open', 'High', 'Low']\n",
        "\n",
        "model_file = 'linear_regression_model.h5'  # Nama file h5 untuk menyimpan model\n",
        "\n",
        "# Panggil fungsi train_and_save_model\n",
        "model, y_test, y_pred, mse, r_squared = train_and_save_model(csv_file_path, target_column, feature_columns, model_file)\n",
        "\n",
        "# Tampilkan hasil evaluasi model\n",
        "print(f\"Mean Squared Error: {mse}\")\n",
        "print(f\"R-squared: {r_squared}\")\n",
        "\n",
        "# Contoh prediksi untuk contoh data baru\n",
        "example_new_data = pd.DataFrame([[246.1, 247.8, 237.5]], columns=feature_columns)\n",
        "predicted_price = model.predict(example_new_data)\n",
        "print(f\"Prediksi harga untuk contoh data baru: {predicted_price[0]}\")"
      ],
      "metadata": {
        "id": "x_ZHDbuZAies",
        "colab": {
          "base_uri": "https://localhost:8080/"
        },
        "outputId": "d04dc648-9600-4abb-e26d-c37d3feba3ef"
      },
      "execution_count": 21,
      "outputs": [
        {
          "output_type": "stream",
          "name": "stdout",
          "text": [
            "Mean Squared Error: 58.20451033826206\n",
            "R-squared: 0.9343440785430838\n",
            "Prediksi harga untuk contoh data baru: 241.6174858105848\n"
          ]
        }
      ]
    },
    {
      "cell_type": "markdown",
      "source": [
        "### Train Data"
      ],
      "metadata": {
        "id": "ncZGKg3u2QHn"
      }
    },
    {
      "cell_type": "code",
      "source": [
        "import pandas as pd\n",
        "import joblib\n",
        "import json\n",
        "from sklearn.model_selection import train_test_split\n",
        "from sklearn.linear_model import LinearRegression\n",
        "from sklearn.metrics import mean_squared_error, r2_score\n",
        "\n",
        "# Function to train the linear regression model and save it as a JSON file\n",
        "def train_and_save_model(csv_file_path, target_column, feature_columns, model_file):\n",
        "    # Read data from the CSV file\n",
        "    df = pd.read_csv(csv_file_path)\n",
        "\n",
        "    # Replace commas with dots in columns containing numbers\n",
        "    for col in df.columns:\n",
        "        if df[col].dtype == 'object':\n",
        "            df[col] = df[col].str.replace(',', '.').astype(float)\n",
        "\n",
        "    # Select the target and feature columns\n",
        "    data = df[[target_column] + feature_columns]\n",
        "\n",
        "    # Split the data into training and test sets\n",
        "    X = data[feature_columns]\n",
        "    y = data[target_column]\n",
        "    X_train, X_test, y_train, y_test = train_test_split(X, y, test_size=0.2, random_state=42)\n",
        "\n",
        "    # Train the linear regression model\n",
        "    model = LinearRegression()\n",
        "    model.fit(X_train, y_train)\n",
        "\n",
        "    # Perform prediction on the test set\n",
        "    y_pred = model.predict(X_test)\n",
        "\n",
        "    # Evaluate the model using Mean Squared Error and R-squared\n",
        "    mse = mean_squared_error(y_test, y_pred)\n",
        "    r_squared = r2_score(y_test, y_pred)\n",
        "\n",
        "    # Save the model as a JSON file\n",
        "    model_dict = {\n",
        "        'coefficients': model.coef_.tolist(),\n",
        "        'intercept': model.intercept_\n",
        "    }\n",
        "    with open(model_file, 'w') as json_file:\n",
        "        json.dump(model_dict, json_file)\n",
        "\n",
        "    return model, y_test, y_pred, mse, r_squared\n",
        "\n",
        "# CSV file path, target column, and feature columns\n",
        "csv_file_path = 'clean.csv'\n",
        "target_column = 'Price'\n",
        "feature_columns = ['Open', 'High', 'Low']\n",
        "model_file = 'linear_regression_model.json'\n",
        "\n",
        "# Call the function to train the model and save it as a JSON file\n",
        "model, y_test, y_pred, mse, r_squared = train_and_save_model(csv_file_path, target_column, feature_columns, model_file)\n",
        "\n",
        "# Print the evaluation metrics\n",
        "print(f\"Mean Squared Error: {mse}\")\n",
        "print(f\"R-squared: {r_squared}\")\n",
        "\n",
        "# Example prediction for new data\n",
        "example_new_data = [246.1, 247.8, 237.5]\n",
        "predicted_price = model.predict([example_new_data])\n",
        "print(f\"Prediction for example new data: {predicted_price[0]}\\n\\n\\n\")\n"
      ],
      "metadata": {
        "id": "bAhOQr17ShHC",
        "colab": {
          "base_uri": "https://localhost:8080/"
        },
        "outputId": "5f6f0db7-1b1d-4bb8-fc9a-faaf0afff19c"
      },
      "execution_count": 22,
      "outputs": [
        {
          "output_type": "stream",
          "name": "stdout",
          "text": [
            "Mean Squared Error: 58.20451033826206\n",
            "R-squared: 0.9343440785430838\n",
            "Prediction for example new data: 241.6174858105848\n",
            "\n",
            "\n",
            "\n"
          ]
        },
        {
          "output_type": "stream",
          "name": "stderr",
          "text": [
            "/usr/local/lib/python3.10/dist-packages/sklearn/base.py:439: UserWarning: X does not have valid feature names, but LinearRegression was fitted with feature names\n",
            "  warnings.warn(\n"
          ]
        }
      ]
    }
  ]
}